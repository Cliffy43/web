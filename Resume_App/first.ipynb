{
 "cells": [
  {
   "cell_type": "code",
   "execution_count": 14,
   "metadata": {},
   "outputs": [
    {
     "name": "stdout",
     "output_type": "stream",
     "text": [
      " * Serving Flask app '__main__'\n",
      " * Debug mode: off\n"
     ]
    },
    {
     "name": "stderr",
     "output_type": "stream",
     "text": [
      "\u001b[31m\u001b[1mWARNING: This is a development server. Do not use it in a production deployment. Use a production WSGI server instead.\u001b[0m\n",
      " * Running on http://127.0.0.1:5000\n",
      "\u001b[33mPress CTRL+C to quit\u001b[0m\n"
     ]
    },
    {
     "name": "stderr",
     "output_type": "stream",
     "text": [
      "127.0.0.1 - - [17/Jul/2023 15:20:58] \"GET / HTTP/1.1\" 200 -\n",
      "127.0.0.1 - - [17/Jul/2023 15:21:03] \"GET /home HTTP/1.1\" 200 -\n",
      "127.0.0.1 - - [17/Jul/2023 15:21:04] \"\u001b[33mGET /css/cascadingtest.css HTTP/1.1\u001b[0m\" 404 -\n",
      "127.0.0.1 - - [17/Jul/2023 15:21:04] \"\u001b[33mGET /Users/c_sav/Documents/web/Resume_App/static/itsame.jpg HTTP/1.1\u001b[0m\" 404 -\n",
      "127.0.0.1 - - [17/Jul/2023 15:21:05] \"GET /home HTTP/1.1\" 200 -\n",
      "127.0.0.1 - - [17/Jul/2023 15:21:05] \"\u001b[33mGET /Users/c_sav/Documents/web/Resume_App/static/itsame.jpg HTTP/1.1\u001b[0m\" 404 -\n",
      "127.0.0.1 - - [17/Jul/2023 15:21:05] \"\u001b[33mGET /css/cascadingtest.css HTTP/1.1\u001b[0m\" 404 -\n",
      "127.0.0.1 - - [17/Jul/2023 15:21:06] \"\u001b[33mGET /favicon.ico HTTP/1.1\u001b[0m\" 404 -\n"
     ]
    }
   ],
   "source": [
    "from flask import Flask, render_template, jsonify\n",
    "\n",
    "app = Flask(__name__, root_path='/Users/c_sav/Documents/web/Resume_App',\n",
    "            static_url_path='')\n",
    "\n",
    "@app.route('/')\n",
    "def index():\n",
    "    return \"Welcome\"\n",
    "@app.route('/Page2')\n",
    "def p2():\n",
    "    return 'page 2'\n",
    "@app.route('/projects/<prcode>')\n",
    "def projects(prcode):\n",
    "    return \"<h3>projects\" + prcode + \"</h3>\"\n",
    "\n",
    "@app.route('/home')\n",
    "def first_template():\n",
    "    return render_template(\"Newb.html\")\n",
    "\n",
    "@app.route('/projects')\n",
    "def showcase():\n",
    "    return render_template('Newb(pg2).html')\n",
    "\n",
    "placeholder = [{'id':1,\n",
    "                'var2':'2',\n",
    "                'var3':'3'}]\n",
    "\n",
    "@app.route('/api/jj')\n",
    "def api_jj():\n",
    "    return jsonify(placeholder)\n",
    "\n",
    "if __name__ == '__main__':\n",
    "    app.run(debug=False)"
   ]
  },
  {
   "cell_type": "code",
   "execution_count": null,
   "metadata": {},
   "outputs": [],
   "source": []
  }
 ],
 "metadata": {
  "kernelspec": {
   "display_name": "Python 3",
   "language": "python",
   "name": "python3"
  },
  "language_info": {
   "codemirror_mode": {
    "name": "ipython",
    "version": 3
   },
   "file_extension": ".py",
   "mimetype": "text/x-python",
   "name": "python",
   "nbconvert_exporter": "python",
   "pygments_lexer": "ipython3",
   "version": "3.11.3"
  },
  "orig_nbformat": 4
 },
 "nbformat": 4,
 "nbformat_minor": 2
}
